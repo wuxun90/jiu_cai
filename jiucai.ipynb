{
  "nbformat": 4,
  "nbformat_minor": 0,
  "metadata": {
    "colab": {
      "name": "jiucai.ipynb",
      "provenance": [],
      "collapsed_sections": [],
      "authorship_tag": "ABX9TyNBxl1ov+I66bq4Iyh02EK2",
      "include_colab_link": true
    },
    "kernelspec": {
      "name": "python3",
      "display_name": "Python 3"
    }
  },
  "cells": [
    {
      "cell_type": "markdown",
      "metadata": {
        "id": "view-in-github",
        "colab_type": "text"
      },
      "source": [
        "<a href=\"https://colab.research.google.com/github/wuxun90/jiu_cai/blob/master/jiucai.ipynb\" target=\"_parent\"><img src=\"https://colab.research.google.com/assets/colab-badge.svg\" alt=\"Open In Colab\"/></a>"
      ]
    },
    {
      "cell_type": "code",
      "metadata": {
        "id": "4duJyzhsB8Fb",
        "colab_type": "code",
        "outputId": "e2db7644-4526-41f5-c57d-fd008a05bdb8",
        "colab": {
          "base_uri": "https://localhost:8080/",
          "height": 442
        }
      },
      "source": [
        "pip install yfinance plotly==4.6.0 bs4 progressbar2\n"
      ],
      "execution_count": 0,
      "outputs": [
        {
          "output_type": "stream",
          "text": [
            "Requirement already satisfied: yfinance in /usr/local/lib/python3.6/dist-packages (0.1.54)\n",
            "Collecting plotly==4.6.0\n",
            "\u001b[?25l  Downloading https://files.pythonhosted.org/packages/15/90/918bccb0ca60dc6d126d921e2c67126d75949f5da777e6b18c51fb12603d/plotly-4.6.0-py2.py3-none-any.whl (7.1MB)\n",
            "\u001b[K     |████████████████████████████████| 7.2MB 2.3MB/s \n",
            "\u001b[?25hRequirement already satisfied: bs4 in /usr/local/lib/python3.6/dist-packages (0.0.1)\n",
            "Requirement already satisfied: progressbar2 in /usr/local/lib/python3.6/dist-packages (3.38.0)\n",
            "Requirement already satisfied: requests>=2.20 in /usr/local/lib/python3.6/dist-packages (from yfinance) (2.23.0)\n",
            "Requirement already satisfied: multitasking>=0.0.7 in /usr/local/lib/python3.6/dist-packages (from yfinance) (0.0.9)\n",
            "Requirement already satisfied: pandas>=0.24 in /usr/local/lib/python3.6/dist-packages (from yfinance) (1.0.3)\n",
            "Requirement already satisfied: numpy>=1.15 in /usr/local/lib/python3.6/dist-packages (from yfinance) (1.18.3)\n",
            "Requirement already satisfied: retrying>=1.3.3 in /usr/local/lib/python3.6/dist-packages (from plotly==4.6.0) (1.3.3)\n",
            "Requirement already satisfied: six in /usr/local/lib/python3.6/dist-packages (from plotly==4.6.0) (1.12.0)\n",
            "Requirement already satisfied: beautifulsoup4 in /usr/local/lib/python3.6/dist-packages (from bs4) (4.6.3)\n",
            "Requirement already satisfied: python-utils>=2.3.0 in /usr/local/lib/python3.6/dist-packages (from progressbar2) (2.4.0)\n",
            "Requirement already satisfied: urllib3!=1.25.0,!=1.25.1,<1.26,>=1.21.1 in /usr/local/lib/python3.6/dist-packages (from requests>=2.20->yfinance) (1.24.3)\n",
            "Requirement already satisfied: chardet<4,>=3.0.2 in /usr/local/lib/python3.6/dist-packages (from requests>=2.20->yfinance) (3.0.4)\n",
            "Requirement already satisfied: certifi>=2017.4.17 in /usr/local/lib/python3.6/dist-packages (from requests>=2.20->yfinance) (2020.4.5.1)\n",
            "Requirement already satisfied: idna<3,>=2.5 in /usr/local/lib/python3.6/dist-packages (from requests>=2.20->yfinance) (2.9)\n",
            "Requirement already satisfied: pytz>=2017.2 in /usr/local/lib/python3.6/dist-packages (from pandas>=0.24->yfinance) (2018.9)\n",
            "Requirement already satisfied: python-dateutil>=2.6.1 in /usr/local/lib/python3.6/dist-packages (from pandas>=0.24->yfinance) (2.8.1)\n",
            "Installing collected packages: plotly\n",
            "  Found existing installation: plotly 4.4.1\n",
            "    Uninstalling plotly-4.4.1:\n",
            "      Successfully uninstalled plotly-4.4.1\n",
            "Successfully installed plotly-4.6.0\n"
          ],
          "name": "stdout"
        }
      ]
    },
    {
      "cell_type": "code",
      "metadata": {
        "id": "xzuBtPCdCClA",
        "colab_type": "code",
        "colab": {}
      },
      "source": [
        "import yfinance as yf\n",
        "import plotly.graph_objects as go\n",
        "import numpy as np\n",
        "import requests\n",
        "import bs4 as bs\n",
        "import progressbar\n",
        "import math\n",
        "\n",
        "def fetch_sp500_tickers():\n",
        "    resp = requests.get(\n",
        "        'http://en.wikipedia.org/wiki/List_of_S%26P_500_companies')\n",
        "    soup = bs.BeautifulSoup(resp.content, 'html.parser')\n",
        "    table = soup.find('table', {'class': 'wikitable sortable'})\n",
        "    tickers = []\n",
        "    for row in table.findAll('tr')[1:]:\n",
        "        ticker = row.findAll('td')[0].text\n",
        "        tickers.append(ticker.rstrip())\n",
        "    return tickers\n",
        "\n",
        "def get_gain_optimistic(prices, index, max_interval, stop_percentage):\n",
        "    if index + max_interval + 1 >= len(prices['Open']):\n",
        "        return 0\n",
        "    cost = max(prices['Open'][index], 0.001)\n",
        "    sell_price = 0\n",
        "    low_stop_sell = 0\n",
        "    high_stop_sell = 0\n",
        "    for i in range(index, index + max_interval + 1):\n",
        "        if (prices['High'][i] - cost) / cost >= stop_percentage:\n",
        "            return stop_percentage\n",
        "        if (cost - prices['Low'][i]) / cost >= stop_percentage:\n",
        "            return -stop_percentage\n",
        "    return (prices['Open'][index + max_interval + 1] - cost) / cost\n",
        "\n",
        "def get_gain_pessimistic(prices, index, max_interval, stop_percentage):\n",
        "  if index + max_interval + 1 >= len(prices['Open']):\n",
        "    return 0\n",
        "  cost = max(prices['Open'][index], 0.001)\n",
        "  sell_price = 0\n",
        "  low_stop_sell = 0\n",
        "  high_stop_sell = 0\n",
        "  for i in range(index, index + max_interval + 1):\n",
        "    if (cost - prices['Low'][i]) / cost >= stop_percentage:\n",
        "        return -stop_percentage\n",
        "    if (prices['High'][i] - cost) / cost >= stop_percentage:\n",
        "        return stop_percentage\n",
        "  return (prices['Open'][index + max_interval + 1] - cost) / cost\n",
        "\n",
        "def get_trend(prices, start_index, end_index):\n",
        "  ascending = True\n",
        "  descending = True\n",
        "  for i in range(start_index, end_index + 1):\n",
        "    if prices['Open'][i] < prices['Close'][i]:\n",
        "        descending = False\n",
        "    elif prices['Open'][i] > prices['Close'][i]:\n",
        "        ascending = False\n",
        "  if ascending:\n",
        "    return 1\n",
        "  if descending:\n",
        "    return -1\n",
        "  return 0\n",
        "\n",
        "def is_down_shooting_star(prices, index, threshold):\n",
        "  upper_bound = max(prices['Open'][index], prices['Close'][index])\n",
        "  lower_bound = min(prices['Open'][index], prices['Close'][index])\n",
        "  return ((index > 4) and\n",
        "          ((prices['High'][index] - upper_bound) / max(upper_bound - lower_bound, 0.001) >= threshold) and \n",
        "          ((prices['High'][index] - upper_bound) / max(lower_bound - prices['Low'][index], 0.001) >= threshold) and \n",
        "          (get_trend(prices, index - 4, index - 1) == 1))\n",
        "\n",
        "def is_up_shooting_star(prices, index, threshold):\n",
        "  upper_bound = max(prices['Open'][index], prices['Close'][index])\n",
        "  lower_bound = min(prices['Open'][index], prices['Close'][index])\n",
        "  return ((index > 4) and\n",
        "          ((lower_bound - prices['Low'][index]) / max(upper_bound - lower_bound, 0.001) >= threshold) and \n",
        "          ((lower_bound - prices['Low'][index]) / max(prices['High'][index] - upper_bound, 0.001) >= threshold) and \n",
        "          (get_trend(prices, index - 4, index - 1) == -1))\n",
        "\n",
        "def is_down_engulfing(prices, index, threshold):\n",
        "  return ((index > 4) and\n",
        "          (prices['Open'][index] > prices['Close'][index]) and\n",
        "          (prices['Close'][index-1] > prices['Open'][index-1]) and\n",
        "          (prices['Open'][index] > prices['Close'][index-1]) and\n",
        "          (prices['Close'][index] < prices['Open'][index-1]) and\n",
        "          ((prices['Open'][index] - prices['Close'][index]) / max(prices['Close'][index] - prices['Open'][index], 0.001) >= threshold) and\n",
        "          (get_trend(prices, index - 4, index - 1) == 1))\n",
        "  \n",
        "def is_up_engulfing(prices, index, threshold):\n",
        "  return ((index > 4) and\n",
        "          (prices['Open'][index] < prices['Close'][index]) and\n",
        "          (prices['Close'][index-1] < prices['Open'][index-1]) and\n",
        "          (prices['Close'][index] > prices['Open'][index-1]) and\n",
        "          (prices['Open'][index] < prices['Close'][index-1]) and\n",
        "          ((prices['Close'][index] - prices['Open'][index]) / max(prices['Open'][index] - prices['Close'][index], 0.001) >= threshold) and\n",
        "          (get_trend(prices, index - 4, index - 1) == -1))\n",
        "\n",
        "\n"
      ],
      "execution_count": 0,
      "outputs": []
    },
    {
      "cell_type": "code",
      "metadata": {
        "id": "b5ihITlnCNvT",
        "colab_type": "code",
        "outputId": "d80f0e3e-5d5f-4d75-8453-036e39ec90d9",
        "colab": {
          "base_uri": "https://localhost:8080/",
          "height": 85
        }
      },
      "source": [
        "tickers = fetch_sp500_tickers()\n",
        "down_shooting_star_ticker_list = {}\n",
        "up_shooting_star_ticker_list = {}\n",
        "down_engulfing_ticker_list = {}\n",
        "up_engulfing_ticker_list = {}\n",
        "\n",
        "with progressbar.ProgressBar(max_value=len(tickers)) as bar:\n",
        "  i = 0\n",
        "  for ticker in tickers:\n",
        "    i += 1\n",
        "    bar.update(i)\n",
        "    down_shooting_stars = []\n",
        "    up_shooting_stars = []\n",
        "    down_engulfings = []\n",
        "    up_engulfings = []\n",
        "    price = yf.Ticker(ticker)\n",
        "    period = '60d' # m = min, h = hour, d = day, wk = week, mo=month\n",
        "    interval = '15m' # valid intervals 1m, 2m, 5m, 15m, 30m, 60m, 90m, 1h, 1d, 5d, 1wk, 1mo, 3mo\n",
        "    prices = price.history(period=period, interval=interval)\n",
        "    for index in range(prices.shape[0]):\n",
        "      if is_down_shooting_star(prices, index, 3) == True:\n",
        "        # Since we are shorting stock, we need to be \"optimistic\" for the worst case.\n",
        "        down_shooting_stars.append((index, get_gain_optimistic(prices, index + 1, 4, 0.05)))\n",
        "      if is_up_shooting_star(prices, index, 3) == True:\n",
        "        # Since we are longing stock, we need to be \"pessimistic\" for the worst case.\n",
        "        up_shooting_stars.append((index, get_gain_pessimistic(prices, index + 1, 5, 0.05)))\n",
        "      if is_down_engulfing(prices, index, 3) == True:\n",
        "        # Since we are shorting stock, we need to be \"optimistic\" for the worst case.\n",
        "        down_engulfings.append((index, get_gain_optimistic(prices, index + 1, 4, 0.05)))\n",
        "      if is_up_engulfing(prices, index, 3) == True:\n",
        "        # Since we are longing stock, we need to be \"pessimistic\" for the worst case.\n",
        "        up_engulfings.append((index, get_gain_pessimistic(prices, index + 1, 3, 0.05)))\n",
        "    if down_shooting_stars:\n",
        "      down_shooting_star_ticker_list[ticker] = down_shooting_stars\n",
        "    if up_shooting_stars:\n",
        "      up_shooting_star_ticker_list[ticker] = up_shooting_stars\n",
        "    if down_engulfings:\n",
        "      down_engulfing_ticker_list[ticker] = down_engulfings\n",
        "    if up_engulfings:\n",
        "      up_engulfing_ticker_list[ticker] = up_engulfings"
      ],
      "execution_count": 33,
      "outputs": [
        {
          "output_type": "stream",
          "text": [
            "\r                                                                               \r\rN/A% (0 of 505) |                        | Elapsed Time: 0:00:00 ETA:  --:--:--"
          ],
          "name": "stderr"
        },
        {
          "output_type": "stream",
          "text": [
            "Start loading tickers...\n"
          ],
          "name": "stdout"
        },
        {
          "output_type": "stream",
          "text": [
            " 13% (69 of 505) |###                    | Elapsed Time: 0:01:04 ETA:   0:07:55"
          ],
          "name": "stderr"
        },
        {
          "output_type": "stream",
          "text": [
            "- BRK.B: No data found, symbol may be delisted\n"
          ],
          "name": "stdout"
        },
        {
          "output_type": "stream",
          "text": [
            " 16% (82 of 505) |###                    | Elapsed Time: 0:01:15 ETA:   0:04:51"
          ],
          "name": "stderr"
        },
        {
          "output_type": "stream",
          "text": [
            "- BF.B: No data found for this date range, symbol may be delisted\n"
          ],
          "name": "stdout"
        },
        {
          "output_type": "stream",
          "text": [
            "100% (505 of 505) |######################| Elapsed Time: 0:07:53 Time:  0:07:53\n"
          ],
          "name": "stderr"
        }
      ]
    },
    {
      "cell_type": "code",
      "metadata": {
        "id": "l1IUGgEmVaBd",
        "colab_type": "code",
        "outputId": "bfcf581b-0e77-4b56-9426-90504e140606",
        "colab": {
          "base_uri": "https://localhost:8080/",
          "height": 85
        }
      },
      "source": [
        "for ticker_list_tuple in [('down_shooting_star', down_shooting_star_ticker_list),\n",
        "                          ('up_shooting_star', up_shooting_star_ticker_list),\n",
        "                          ('down_engulfing', down_engulfing_ticker_list),\n",
        "                          ('up_engulfing', up_engulfing_ticker_list)]:\n",
        "  total_gain = 0\n",
        "  positive = 0\n",
        "  negative = 0\n",
        "  for _, ticker_earnings in ticker_list_tuple[1].items():\n",
        "      for pair in ticker_earnings:\n",
        "          gain = pair[1]\n",
        "          if math.isnan(gain):\n",
        "              gain = 0\n",
        "          total_gain += gain\n",
        "          if gain > 0:\n",
        "              positive += 1\n",
        "          else:\n",
        "              negative += 1\n",
        "  print(\"Total gain for %s: %s; Positive number: %d; Negative number: %d\" % (ticker_list_tuple[0], total_gain, positive, negative))"
      ],
      "execution_count": 34,
      "outputs": [
        {
          "output_type": "stream",
          "text": [
            "Total gain for down_shooting_star: -2.453281103363123; Positive number: 1142; Negative number: 1252\n",
            "Total gain for up_shooting_star: 3.145935927997773; Positive number: 1466; Negative number: 1216\n",
            "Total gain for down_engulfing: -5.547895398260688; Positive number: 1731; Negative number: 1944\n",
            "Total gain for up_engulfing: -0.5688594648645952; Positive number: 1918; Negative number: 1967\n"
          ],
          "name": "stdout"
        }
      ]
    },
    {
      "cell_type": "code",
      "metadata": {
        "id": "aui7wrIiQtZd",
        "colab_type": "code",
        "outputId": "73a295d4-ec53-4639-eaa4-969924f9b62e",
        "colab": {
          "base_uri": "https://localhost:8080/",
          "height": 221
        }
      },
      "source": [
        "up_engulfing_ticker_list['GOOG']"
      ],
      "execution_count": 35,
      "outputs": [
        {
          "output_type": "execute_result",
          "data": {
            "text/plain": [
              "[(55, 0.0023668952020785886),\n",
              " (131, -0.0006015824233308346),\n",
              " (341, 0.016638276253660857),\n",
              " (460, -0.0017309750110153313),\n",
              " (745, -0.005642089019626667),\n",
              " (771, 0.013581206937085177),\n",
              " (799, -0.018922018348623695),\n",
              " (805, 0.011298977968341232),\n",
              " (1041, 0.008316095371293195),\n",
              " (1188, 0.00258410336413458),\n",
              " (1308, 0.0022530775167810403),\n",
              " (1317, -0.0006895957245064155)]"
            ]
          },
          "metadata": {
            "tags": []
          },
          "execution_count": 35
        }
      ]
    },
    {
      "cell_type": "code",
      "metadata": {
        "id": "haSqduMiDJ7k",
        "colab_type": "code",
        "outputId": "83c849bf-47b8-44dc-f008-1b462b3e8d66",
        "colab": {
          "base_uri": "https://localhost:8080/",
          "height": 542
        }
      },
      "source": [
        "ticker_name = 'GOOG'\n",
        "record_list = up_engulfing_ticker_list\n",
        "\n",
        "ticker_fetcher = yf.Ticker(ticker_name)\n",
        "ticker_prices = ticker_fetcher.history(period=period, interval=interval)\n",
        "ticker_points = np.array([item[0] for item in record_list[ticker_name]])\n",
        "plot_list = np.concatenate((ticker_points, ticker_points-1, ticker_points-2,\n",
        "                            ticker_points-3,ticker_points+1, ticker_points+2,\n",
        "                            ticker_points+3,ticker_points+4, ticker_points+5))\n",
        "plot_list = np.sort(plot_list)\n",
        "\n",
        "fig = go.Figure(data=[go.Candlestick(x=ticker_prices.index[plot_list],\n",
        "                                     open=ticker_prices['Open'][plot_list], \n",
        "                                     high=ticker_prices['High'][plot_list],\n",
        "                                     low=ticker_prices['Low'][plot_list],\n",
        "                                     close=ticker_prices['Close'][plot_list])])\n",
        "fig.show()"
      ],
      "execution_count": 36,
      "outputs": [
        {
          "output_type": "display_data",
          "data": {
            "text/html": [
              "<html>\n",
              "<head><meta charset=\"utf-8\" /></head>\n",
              "<body>\n",
              "    <div>\n",
              "            <script src=\"https://cdnjs.cloudflare.com/ajax/libs/mathjax/2.7.5/MathJax.js?config=TeX-AMS-MML_SVG\"></script><script type=\"text/javascript\">if (window.MathJax) {MathJax.Hub.Config({SVG: {font: \"STIX-Web\"}});}</script>\n",
              "                <script type=\"text/javascript\">window.PlotlyConfig = {MathJaxConfig: 'local'};</script>\n",
              "        <script src=\"https://cdn.plot.ly/plotly-latest.min.js\"></script>    \n",
              "            <div id=\"9c5d3be3-79ca-4567-9500-713a74128cbd\" class=\"plotly-graph-div\" style=\"height:525px; width:100%;\"></div>\n",
              "            <script type=\"text/javascript\">\n",
              "                \n",
              "                    window.PLOTLYENV=window.PLOTLYENV || {};\n",
              "                    \n",
              "                if (document.getElementById(\"9c5d3be3-79ca-4567-9500-713a74128cbd\")) {\n",
              "                    Plotly.newPlot(\n",
              "                        '9c5d3be3-79ca-4567-9500-713a74128cbd',\n",
              "                        [{\"close\": [1510.97, 1511.17, 1510.14, 1512.6, 1514.87, 1516.25, 1515.4, 1515.94, 1515.92, 1519.61, 1524.86, 1524.6, 1529.52, 1529.39, 1529.14, 1527.09, 1528.48, 1530.0, 1338.35, 1334.92, 1334.33, 1337.82, 1343.33, 1354.54, 1355.73, 1362.7, 1366.27, 1276.22, 1270.01, 1268.31, 1271.58, 1267.05, 1265.53, 1268.55, 1269.52, 1281.55, 1033.49, 1030.55, 1029.9, 1035.76, 1036.09, 1033.26, 1036.29, 1031.0, 1041.84, 1110.2, 1102.61, 1092.39, 1106.16, 1115.0, 1125.62, 1125.5, 1120.96, 1128.94, 1125.92, 1126.13, 1124.12, 1133.0, 1136.64, 1131.6, 1128.03, 1128.03, 1102.49, 1102.49, 1107.1, 1107.1, 1113.12, 1113.36, 1117.0, 1126.59, 1124.9, 1123.94, 1200.11, 1192.81, 1192.14, 1193.67, 1193.89, 1201.89, 1200.43, 1204.0, 1207.4, 1247.9, 1248.21, 1247.49, 1250.56, 1250.3, 1244.12, 1251.63, 1252.62, 1263.47, 1285.99, 1281.15, 1279.43, 1283.21, 1286.65, 1280.24, 1281.33, 1285.42, 1274.7, 1274.42, 1271.16, 1270.16, 1275.72, 1278.76, 1282.99, 1275.28, 1275.0, 1275.92], \"high\": [1513.72, 1515.35, 1512.8, 1513.64, 1515.45, 1516.25, 1517.42, 1516.24, 1517.61, 1523.0, 1526.99, 1525.0, 1529.84, 1531.21, 1529.78, 1529.28, 1528.64, 1530.24, 1348.52, 1340.56, 1335.75, 1338.97, 1347.0, 1354.54, 1357.29, 1363.0, 1369.31, 1280.93, 1275.64, 1270.78, 1275.53, 1272.97, 1269.58, 1273.99, 1276.0, 1283.69, 1051.18, 1049.05, 1037.4, 1039.23, 1037.81, 1043.9, 1041.69, 1038.02, 1042.49, 1114.68, 1111.48, 1103.63, 1107.63, 1117.99, 1125.62, 1127.56, 1125.67, 1130.3, 1132.99, 1131.3, 1127.76, 1135.45, 1140.0, 1139.69, 1138.49, 1138.49, 1127.95, 1127.95, 1117.31, 1117.31, 1114.69, 1123.36, 1121.4, 1128.69, 1130.0, 1126.9, 1211.44, 1202.0, 1194.07, 1195.65, 1196.96, 1202.59, 1203.27, 1204.23, 1208.28, 1253.5, 1249.22, 1249.03, 1253.5, 1251.0, 1250.81, 1251.63, 1255.63, 1267.42, 1287.62, 1285.5, 1281.63, 1284.0, 1286.65, 1286.99, 1282.09, 1285.79, 1285.61, 1278.75, 1276.01, 1273.24, 1276.49, 1279.47, 1283.6, 1283.1, 1277.43, 1278.52], \"low\": [1504.6, 1510.58, 1508.03, 1509.91, 1512.14, 1514.59, 1515.04, 1513.71, 1515.7, 1519.2, 1521.4, 1523.0, 1524.08, 1528.04, 1527.76, 1526.12, 1526.82, 1527.52, 1337.81, 1327.11, 1326.81, 1326.84, 1338.13, 1342.12, 1350.36, 1351.53, 1360.0, 1272.82, 1268.57, 1267.16, 1265.7, 1262.62, 1262.0, 1263.21, 1267.85, 1266.21, 1033.33, 1026.85, 1022.5, 1024.88, 1027.33, 1030.13, 1031.4, 1027.89, 1025.0, 1108.27, 1101.2, 1090.62, 1090.97, 1102.52, 1107.56, 1121.02, 1119.65, 1119.0, 1111.11, 1122.13, 1117.21, 1122.71, 1131.11, 1130.0, 1126.07, 1126.07, 1100.17, 1100.17, 1104.01, 1104.01, 1094.42, 1111.35, 1113.19, 1116.39, 1119.04, 1120.0, 1199.02, 1190.65, 1188.16, 1191.01, 1192.05, 1194.56, 1197.78, 1199.39, 1202.31, 1245.46, 1244.0, 1242.91, 1246.68, 1246.33, 1242.62, 1242.98, 1250.45, 1251.5, 1283.53, 1279.3, 1277.99, 1278.68, 1282.69, 1278.7, 1266.47, 1280.99, 1271.56, 1273.11, 1269.28, 1267.16, 1269.68, 1275.53, 1277.71, 1275.28, 1272.07, 1271.89], \"open\": [1512.69, 1511.54, 1510.53, 1510.06, 1512.53, 1514.81, 1516.45, 1515.07, 1516.11, 1522.35, 1525.07, 1524.61, 1524.59, 1529.3, 1529.51, 1529.14, 1527.1, 1528.38, 1343.23, 1337.72, 1334.47, 1333.11, 1338.48, 1342.77, 1354.22, 1355.92, 1360.75, 1278.76, 1275.64, 1268.95, 1267.97, 1270.96, 1267.09, 1265.61, 1268.4, 1268.76, 1051.05, 1033.33, 1032.0, 1029.23, 1036.85, 1034.22, 1034.76, 1036.52, 1031.0, 1110.88, 1110.42, 1102.61, 1091.01, 1105.94, 1114.49, 1125.14, 1124.59, 1120.96, 1131.91, 1126.3, 1126.54, 1123.15, 1133.6, 1136.94, 1131.49, 1131.49, 1127.37, 1127.37, 1112.15, 1112.15, 1106.84, 1112.49, 1113.55, 1116.73, 1127.5, 1125.06, 1206.0, 1201.0, 1192.86, 1192.01, 1194.07, 1195.0, 1202.0, 1200.11, 1204.0, 1250.8, 1248.21, 1248.47, 1247.24, 1249.95, 1250.81, 1244.5, 1251.47, 1253.18, 1286.66, 1285.5, 1281.02, 1278.68, 1282.69, 1286.35, 1279.85, 1280.99, 1285.58, 1275.0, 1274.23, 1271.93, 1269.68, 1276.11, 1279.12, 1283.1, 1276.4, 1275.23], \"type\": \"candlestick\", \"x\": [\"2020-02-13T09:30:00-05:00\", \"2020-02-13T09:45:00-05:00\", \"2020-02-13T10:00:00-05:00\", \"2020-02-13T10:15:00-05:00\", \"2020-02-13T10:30:00-05:00\", \"2020-02-13T10:45:00-05:00\", \"2020-02-13T11:00:00-05:00\", \"2020-02-13T11:15:00-05:00\", \"2020-02-13T11:30:00-05:00\", \"2020-02-18T15:45:00-05:00\", \"2020-02-19T09:30:00-05:00\", \"2020-02-19T09:45:00-05:00\", \"2020-02-19T10:00:00-05:00\", \"2020-02-19T10:15:00-05:00\", \"2020-02-19T10:30:00-05:00\", \"2020-02-19T10:45:00-05:00\", \"2020-02-19T11:00:00-05:00\", \"2020-02-19T11:15:00-05:00\", \"2020-03-02T09:45:00-05:00\", \"2020-03-02T10:00:00-05:00\", \"2020-03-02T10:15:00-05:00\", \"2020-03-02T10:30:00-05:00\", \"2020-03-02T10:45:00-05:00\", \"2020-03-02T11:00:00-05:00\", \"2020-03-02T11:15:00-05:00\", \"2020-03-02T11:30:00-05:00\", \"2020-03-02T11:45:00-05:00\", \"2020-03-06T13:30:00-05:00\", \"2020-03-06T13:45:00-05:00\", \"2020-03-06T14:00:00-05:00\", \"2020-03-06T14:15:00-05:00\", \"2020-03-06T14:30:00-05:00\", \"2020-03-06T14:45:00-05:00\", \"2020-03-06T15:00:00-05:00\", \"2020-03-06T15:15:00-05:00\", \"2020-03-06T15:30:00-05:00\", \"2020-03-23T13:30:00-04:00\", \"2020-03-23T13:45:00-04:00\", \"2020-03-23T14:00:00-04:00\", \"2020-03-23T14:15:00-04:00\", \"2020-03-23T14:30:00-04:00\", \"2020-03-23T14:45:00-04:00\", \"2020-03-23T15:00:00-04:00\", \"2020-03-23T15:15:00-04:00\", \"2020-03-23T15:30:00-04:00\", \"2020-03-24T13:30:00-04:00\", \"2020-03-24T13:45:00-04:00\", \"2020-03-24T14:00:00-04:00\", \"2020-03-24T14:15:00-04:00\", \"2020-03-24T14:30:00-04:00\", \"2020-03-24T14:45:00-04:00\", \"2020-03-24T15:00:00-04:00\", \"2020-03-24T15:15:00-04:00\", \"2020-03-24T15:30:00-04:00\", \"2020-03-25T14:00:00-04:00\", \"2020-03-25T14:15:00-04:00\", \"2020-03-25T14:30:00-04:00\", \"2020-03-25T14:45:00-04:00\", \"2020-03-25T15:00:00-04:00\", \"2020-03-25T15:15:00-04:00\", \"2020-03-25T15:30:00-04:00\", \"2020-03-25T15:30:00-04:00\", \"2020-03-25T15:45:00-04:00\", \"2020-03-25T15:45:00-04:00\", \"2020-03-26T09:30:00-04:00\", \"2020-03-26T09:30:00-04:00\", \"2020-03-26T09:45:00-04:00\", \"2020-03-26T10:00:00-04:00\", \"2020-03-26T10:15:00-04:00\", \"2020-03-26T10:30:00-04:00\", \"2020-03-26T10:45:00-04:00\", \"2020-03-26T11:00:00-04:00\", \"2020-04-08T09:30:00-04:00\", \"2020-04-08T09:45:00-04:00\", \"2020-04-08T10:00:00-04:00\", \"2020-04-08T10:15:00-04:00\", \"2020-04-08T10:30:00-04:00\", \"2020-04-08T10:45:00-04:00\", \"2020-04-08T11:00:00-04:00\", \"2020-04-08T11:15:00-04:00\", \"2020-04-08T11:30:00-04:00\", \"2020-04-16T13:45:00-04:00\", \"2020-04-16T14:00:00-04:00\", \"2020-04-16T14:15:00-04:00\", \"2020-04-16T14:30:00-04:00\", \"2020-04-16T14:45:00-04:00\", \"2020-04-16T15:00:00-04:00\", \"2020-04-16T15:15:00-04:00\", \"2020-04-16T15:30:00-04:00\", \"2020-04-16T15:45:00-04:00\", \"2020-04-23T11:15:00-04:00\", \"2020-04-23T11:30:00-04:00\", \"2020-04-23T11:45:00-04:00\", \"2020-04-23T12:00:00-04:00\", \"2020-04-23T12:15:00-04:00\", \"2020-04-23T12:30:00-04:00\", \"2020-04-23T12:45:00-04:00\", \"2020-04-23T13:00:00-04:00\", \"2020-04-23T13:15:00-04:00\", \"2020-04-23T13:30:00-04:00\", \"2020-04-23T13:45:00-04:00\", \"2020-04-23T14:00:00-04:00\", \"2020-04-23T14:15:00-04:00\", \"2020-04-23T14:30:00-04:00\", \"2020-04-23T14:45:00-04:00\", \"2020-04-23T15:00:00-04:00\", \"2020-04-23T15:15:00-04:00\", \"2020-04-23T15:30:00-04:00\"]}],\n",
              "                        {\"template\": {\"data\": {\"bar\": [{\"error_x\": {\"color\": \"#2a3f5f\"}, \"error_y\": {\"color\": \"#2a3f5f\"}, \"marker\": {\"line\": {\"color\": \"#E5ECF6\", \"width\": 0.5}}, \"type\": \"bar\"}], \"barpolar\": [{\"marker\": {\"line\": {\"color\": \"#E5ECF6\", \"width\": 0.5}}, \"type\": \"barpolar\"}], \"carpet\": [{\"aaxis\": {\"endlinecolor\": \"#2a3f5f\", \"gridcolor\": \"white\", \"linecolor\": \"white\", \"minorgridcolor\": \"white\", \"startlinecolor\": \"#2a3f5f\"}, \"baxis\": {\"endlinecolor\": \"#2a3f5f\", \"gridcolor\": \"white\", \"linecolor\": \"white\", \"minorgridcolor\": \"white\", \"startlinecolor\": \"#2a3f5f\"}, \"type\": \"carpet\"}], \"choropleth\": [{\"colorbar\": {\"outlinewidth\": 0, \"ticks\": \"\"}, \"type\": \"choropleth\"}], \"contour\": [{\"colorbar\": {\"outlinewidth\": 0, \"ticks\": \"\"}, \"colorscale\": [[0.0, \"#0d0887\"], [0.1111111111111111, \"#46039f\"], [0.2222222222222222, \"#7201a8\"], [0.3333333333333333, \"#9c179e\"], [0.4444444444444444, \"#bd3786\"], [0.5555555555555556, \"#d8576b\"], [0.6666666666666666, \"#ed7953\"], [0.7777777777777778, \"#fb9f3a\"], [0.8888888888888888, \"#fdca26\"], [1.0, \"#f0f921\"]], \"type\": \"contour\"}], \"contourcarpet\": [{\"colorbar\": {\"outlinewidth\": 0, \"ticks\": \"\"}, \"type\": \"contourcarpet\"}], \"heatmap\": [{\"colorbar\": {\"outlinewidth\": 0, \"ticks\": \"\"}, \"colorscale\": [[0.0, \"#0d0887\"], [0.1111111111111111, \"#46039f\"], [0.2222222222222222, \"#7201a8\"], [0.3333333333333333, \"#9c179e\"], [0.4444444444444444, \"#bd3786\"], [0.5555555555555556, \"#d8576b\"], [0.6666666666666666, \"#ed7953\"], [0.7777777777777778, \"#fb9f3a\"], [0.8888888888888888, \"#fdca26\"], [1.0, \"#f0f921\"]], \"type\": \"heatmap\"}], \"heatmapgl\": [{\"colorbar\": {\"outlinewidth\": 0, \"ticks\": \"\"}, \"colorscale\": [[0.0, \"#0d0887\"], [0.1111111111111111, \"#46039f\"], [0.2222222222222222, \"#7201a8\"], [0.3333333333333333, \"#9c179e\"], [0.4444444444444444, \"#bd3786\"], [0.5555555555555556, \"#d8576b\"], [0.6666666666666666, \"#ed7953\"], [0.7777777777777778, \"#fb9f3a\"], [0.8888888888888888, \"#fdca26\"], [1.0, \"#f0f921\"]], \"type\": \"heatmapgl\"}], \"histogram\": [{\"marker\": {\"colorbar\": {\"outlinewidth\": 0, \"ticks\": \"\"}}, \"type\": \"histogram\"}], \"histogram2d\": [{\"colorbar\": {\"outlinewidth\": 0, \"ticks\": \"\"}, \"colorscale\": [[0.0, \"#0d0887\"], [0.1111111111111111, \"#46039f\"], [0.2222222222222222, \"#7201a8\"], [0.3333333333333333, \"#9c179e\"], [0.4444444444444444, \"#bd3786\"], [0.5555555555555556, \"#d8576b\"], [0.6666666666666666, \"#ed7953\"], [0.7777777777777778, \"#fb9f3a\"], [0.8888888888888888, \"#fdca26\"], [1.0, \"#f0f921\"]], \"type\": \"histogram2d\"}], \"histogram2dcontour\": [{\"colorbar\": {\"outlinewidth\": 0, \"ticks\": \"\"}, \"colorscale\": [[0.0, \"#0d0887\"], [0.1111111111111111, \"#46039f\"], [0.2222222222222222, \"#7201a8\"], [0.3333333333333333, \"#9c179e\"], [0.4444444444444444, \"#bd3786\"], [0.5555555555555556, \"#d8576b\"], [0.6666666666666666, \"#ed7953\"], [0.7777777777777778, \"#fb9f3a\"], [0.8888888888888888, \"#fdca26\"], [1.0, \"#f0f921\"]], \"type\": \"histogram2dcontour\"}], \"mesh3d\": [{\"colorbar\": {\"outlinewidth\": 0, \"ticks\": \"\"}, \"type\": \"mesh3d\"}], \"parcoords\": [{\"line\": {\"colorbar\": {\"outlinewidth\": 0, \"ticks\": \"\"}}, \"type\": \"parcoords\"}], \"pie\": [{\"automargin\": true, \"type\": \"pie\"}], \"scatter\": [{\"marker\": {\"colorbar\": {\"outlinewidth\": 0, \"ticks\": \"\"}}, \"type\": \"scatter\"}], \"scatter3d\": [{\"line\": {\"colorbar\": {\"outlinewidth\": 0, \"ticks\": \"\"}}, \"marker\": {\"colorbar\": {\"outlinewidth\": 0, \"ticks\": \"\"}}, \"type\": \"scatter3d\"}], \"scattercarpet\": [{\"marker\": {\"colorbar\": {\"outlinewidth\": 0, \"ticks\": \"\"}}, \"type\": \"scattercarpet\"}], \"scattergeo\": [{\"marker\": {\"colorbar\": {\"outlinewidth\": 0, \"ticks\": \"\"}}, \"type\": \"scattergeo\"}], \"scattergl\": [{\"marker\": {\"colorbar\": {\"outlinewidth\": 0, \"ticks\": \"\"}}, \"type\": \"scattergl\"}], \"scattermapbox\": [{\"marker\": {\"colorbar\": {\"outlinewidth\": 0, \"ticks\": \"\"}}, \"type\": \"scattermapbox\"}], \"scatterpolar\": [{\"marker\": {\"colorbar\": {\"outlinewidth\": 0, \"ticks\": \"\"}}, \"type\": \"scatterpolar\"}], \"scatterpolargl\": [{\"marker\": {\"colorbar\": {\"outlinewidth\": 0, \"ticks\": \"\"}}, \"type\": \"scatterpolargl\"}], \"scatterternary\": [{\"marker\": {\"colorbar\": {\"outlinewidth\": 0, \"ticks\": \"\"}}, \"type\": \"scatterternary\"}], \"surface\": [{\"colorbar\": {\"outlinewidth\": 0, \"ticks\": \"\"}, \"colorscale\": [[0.0, \"#0d0887\"], [0.1111111111111111, \"#46039f\"], [0.2222222222222222, \"#7201a8\"], [0.3333333333333333, \"#9c179e\"], [0.4444444444444444, \"#bd3786\"], [0.5555555555555556, \"#d8576b\"], [0.6666666666666666, \"#ed7953\"], [0.7777777777777778, \"#fb9f3a\"], [0.8888888888888888, \"#fdca26\"], [1.0, \"#f0f921\"]], \"type\": \"surface\"}], \"table\": [{\"cells\": {\"fill\": {\"color\": \"#EBF0F8\"}, \"line\": {\"color\": \"white\"}}, \"header\": {\"fill\": {\"color\": \"#C8D4E3\"}, \"line\": {\"color\": \"white\"}}, \"type\": \"table\"}]}, \"layout\": {\"annotationdefaults\": {\"arrowcolor\": \"#2a3f5f\", \"arrowhead\": 0, \"arrowwidth\": 1}, \"coloraxis\": {\"colorbar\": {\"outlinewidth\": 0, \"ticks\": \"\"}}, \"colorscale\": {\"diverging\": [[0, \"#8e0152\"], [0.1, \"#c51b7d\"], [0.2, \"#de77ae\"], [0.3, \"#f1b6da\"], [0.4, \"#fde0ef\"], [0.5, \"#f7f7f7\"], [0.6, \"#e6f5d0\"], [0.7, \"#b8e186\"], [0.8, \"#7fbc41\"], [0.9, \"#4d9221\"], [1, \"#276419\"]], \"sequential\": [[0.0, \"#0d0887\"], [0.1111111111111111, \"#46039f\"], [0.2222222222222222, \"#7201a8\"], [0.3333333333333333, \"#9c179e\"], [0.4444444444444444, \"#bd3786\"], [0.5555555555555556, \"#d8576b\"], [0.6666666666666666, \"#ed7953\"], [0.7777777777777778, \"#fb9f3a\"], [0.8888888888888888, \"#fdca26\"], [1.0, \"#f0f921\"]], \"sequentialminus\": [[0.0, \"#0d0887\"], [0.1111111111111111, \"#46039f\"], [0.2222222222222222, \"#7201a8\"], [0.3333333333333333, \"#9c179e\"], [0.4444444444444444, \"#bd3786\"], [0.5555555555555556, \"#d8576b\"], [0.6666666666666666, \"#ed7953\"], [0.7777777777777778, \"#fb9f3a\"], [0.8888888888888888, \"#fdca26\"], [1.0, \"#f0f921\"]]}, \"colorway\": [\"#636efa\", \"#EF553B\", \"#00cc96\", \"#ab63fa\", \"#FFA15A\", \"#19d3f3\", \"#FF6692\", \"#B6E880\", \"#FF97FF\", \"#FECB52\"], \"font\": {\"color\": \"#2a3f5f\"}, \"geo\": {\"bgcolor\": \"white\", \"lakecolor\": \"white\", \"landcolor\": \"#E5ECF6\", \"showlakes\": true, \"showland\": true, \"subunitcolor\": \"white\"}, \"hoverlabel\": {\"align\": \"left\"}, \"hovermode\": \"closest\", \"mapbox\": {\"style\": \"light\"}, \"paper_bgcolor\": \"white\", \"plot_bgcolor\": \"#E5ECF6\", \"polar\": {\"angularaxis\": {\"gridcolor\": \"white\", \"linecolor\": \"white\", \"ticks\": \"\"}, \"bgcolor\": \"#E5ECF6\", \"radialaxis\": {\"gridcolor\": \"white\", \"linecolor\": \"white\", \"ticks\": \"\"}}, \"scene\": {\"xaxis\": {\"backgroundcolor\": \"#E5ECF6\", \"gridcolor\": \"white\", \"gridwidth\": 2, \"linecolor\": \"white\", \"showbackground\": true, \"ticks\": \"\", \"zerolinecolor\": \"white\"}, \"yaxis\": {\"backgroundcolor\": \"#E5ECF6\", \"gridcolor\": \"white\", \"gridwidth\": 2, \"linecolor\": \"white\", \"showbackground\": true, \"ticks\": \"\", \"zerolinecolor\": \"white\"}, \"zaxis\": {\"backgroundcolor\": \"#E5ECF6\", \"gridcolor\": \"white\", \"gridwidth\": 2, \"linecolor\": \"white\", \"showbackground\": true, \"ticks\": \"\", \"zerolinecolor\": \"white\"}}, \"shapedefaults\": {\"line\": {\"color\": \"#2a3f5f\"}}, \"ternary\": {\"aaxis\": {\"gridcolor\": \"white\", \"linecolor\": \"white\", \"ticks\": \"\"}, \"baxis\": {\"gridcolor\": \"white\", \"linecolor\": \"white\", \"ticks\": \"\"}, \"bgcolor\": \"#E5ECF6\", \"caxis\": {\"gridcolor\": \"white\", \"linecolor\": \"white\", \"ticks\": \"\"}}, \"title\": {\"x\": 0.05}, \"xaxis\": {\"automargin\": true, \"gridcolor\": \"white\", \"linecolor\": \"white\", \"ticks\": \"\", \"title\": {\"standoff\": 15}, \"zerolinecolor\": \"white\", \"zerolinewidth\": 2}, \"yaxis\": {\"automargin\": true, \"gridcolor\": \"white\", \"linecolor\": \"white\", \"ticks\": \"\", \"title\": {\"standoff\": 15}, \"zerolinecolor\": \"white\", \"zerolinewidth\": 2}}}},\n",
              "                        {\"responsive\": true}\n",
              "                    ).then(function(){\n",
              "                            \n",
              "var gd = document.getElementById('9c5d3be3-79ca-4567-9500-713a74128cbd');\n",
              "var x = new MutationObserver(function (mutations, observer) {{\n",
              "        var display = window.getComputedStyle(gd).display;\n",
              "        if (!display || display === 'none') {{\n",
              "            console.log([gd, 'removed!']);\n",
              "            Plotly.purge(gd);\n",
              "            observer.disconnect();\n",
              "        }}\n",
              "}});\n",
              "\n",
              "// Listen for the removal of the full notebook cells\n",
              "var notebookContainer = gd.closest('#notebook-container');\n",
              "if (notebookContainer) {{\n",
              "    x.observe(notebookContainer, {childList: true});\n",
              "}}\n",
              "\n",
              "// Listen for the clearing of the current output cell\n",
              "var outputEl = gd.closest('.output');\n",
              "if (outputEl) {{\n",
              "    x.observe(outputEl, {childList: true});\n",
              "}}\n",
              "\n",
              "                        })\n",
              "                };\n",
              "                \n",
              "            </script>\n",
              "        </div>\n",
              "</body>\n",
              "</html>"
            ]
          },
          "metadata": {
            "tags": []
          }
        }
      ]
    }
  ]
}